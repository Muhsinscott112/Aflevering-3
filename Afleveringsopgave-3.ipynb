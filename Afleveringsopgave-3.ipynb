{
 "cells": [
  {
   "cell_type": "markdown",
   "metadata": {},
   "source": [
    "# Afleveringsopgave 3"
   ]
  },
  {
   "cell_type": "code",
   "execution_count": 2,
   "metadata": {},
   "outputs": [],
   "source": [
    "import numpy as np"
   ]
  },
  {
   "cell_type": "code",
   "execution_count": 3,
   "metadata": {},
   "outputs": [],
   "source": [
    "import matplotlib.pyplot as plt"
   ]
  },
  {
   "cell_type": "markdown",
   "metadata": {},
   "source": [
    "##### a)"
   ]
  },
  {
   "cell_type": "code",
   "execution_count": 4,
   "metadata": {},
   "outputs": [
    {
     "data": {
      "image/png": "[encoded data removed]",
      "text/plain": [
       "<Figure size 432x288 with 1 Axes>"
      ]
     },
     "metadata": {
      "needs_background": "light"
     },
     "output_type": "display_data"
    },
    {
     "name": "stdout",
     "output_type": "stream",
     "text": [
      "\n",
      "\n"
     ]
    }
   ],
   "source": [
    "tid = [2.0, 5.0, 8.0, 10.0, 11.0]\n",
    "temperatur = [30.0, 40.0, 50.0, 65.0, 70.0]\n",
    "\n",
    "fig, ax = plt.subplots()\n",
    "ax.plot(tid, temperatur)\n",
    "plt.show()\n",
    "print(\"\\n\")"
   ]
  },
  {
   "cell_type": "markdown",
   "metadata": {},
   "source": [
    "##### b)"
   ]
  },
  {
   "cell_type": "markdown",
   "metadata": {},
   "source": [
    "Vi har en andengradsligning:\n",
    "\n",
    "p(x) = a + b * x + c * x**2 \n",
    "\n",
    "Med den kan opstille et ligningssytem, hvor a, b og c er de eneste ubekendte:\n",
    "\n",
    "50.0 = a + 8b + 64c \n",
    "\n",
    "65.0 = a + 10b + 100c\n",
    "\n",
    "70.0 = a + 11b + 121\n",
    "\n"
   ]
  },
  {
   "cell_type": "code",
   "execution_count": 5,
   "metadata": {},
   "outputs": [
    {
     "data": {
      "text/plain": [
       "array([[  1.,   8.,  64.,  50.],\n",
       "       [  1.,  10., 100.,  65.],\n",
       "       [  1.,  11., 121.,  70.]])"
      ]
     },
     "execution_count": 5,
     "metadata": {},
     "output_type": "execute_result"
    }
   ],
   "source": [
    "A = np.array([[1.0, 8.0, 64.0],\n",
    "              [1.0, 10.0, 100.0],\n",
    "              [1.0, 11.0, 121.0]])\n",
    "\n",
    "B = np.array([50.0, 65.0, 70.0])[:, np.newaxis]\n",
    "\n",
    "C = np.hstack([A,B])\n",
    "C\n"
   ]
  },
  {
   "cell_type": "code",
   "execution_count": 6,
   "metadata": {},
   "outputs": [
    {
     "data": {
      "text/plain": [
       "array([[ 1.        ,  8.        , 64.        , 50.        ],\n",
       "       [ 0.        ,  1.        , 18.        ,  7.5       ],\n",
       "       [ 0.        ,  0.        ,  1.        , -0.83333333]])"
      ]
     },
     "execution_count": 6,
     "metadata": {},
     "output_type": "execute_result"
    }
   ],
   "source": [
    "C[[1,2],:] -= C[0,:]        # Først trækker vi række 0 fra 1 og 2 for at få 0 i søjle 0\n",
    "C[2,:] -= 3/2 * C[1,:]      # Nu trækker vi en skaleret søjle 1 fra 2, for at få 0 i søjle 1\n",
    "C[1,:] *= 1/2               # Til sidst bruger vi skalarer til at etablere pivotelementerne\n",
    "C[2,:] *= 1/3\n",
    "C"
   ]
  },
  {
   "cell_type": "code",
   "execution_count": 7,
   "metadata": {},
   "outputs": [
    {
     "data": {
      "text/plain": [
       "array([[  1.        ,   0.        ,   0.        , -76.66666667],\n",
       "       [  0.        ,   1.        ,   0.        ,  22.5       ],\n",
       "       [  0.        ,   0.        ,   1.        ,  -0.83333333]])"
      ]
     },
     "execution_count": 7,
     "metadata": {},
     "output_type": "execute_result"
    }
   ],
   "source": [
    "C[1,:] -= 18 * C[2,:]               # Nu reducerer vi koefficientmatricen til en indentitetsmatrix for at finde løsningen\n",
    "C[0,:] -= 64 * C[2,:] + 8 * C[1,:]\n",
    "C"
   ]
  },
  {
   "cell_type": "code",
   "execution_count": 8,
   "metadata": {},
   "outputs": [
    {
     "data": {
      "text/plain": [
       "(-76.66666666666667, 22.5, -0.8333333333333333)"
      ]
     },
     "execution_count": 8,
     "metadata": {},
     "output_type": "execute_result"
    }
   ],
   "source": [
    "a, b, c = C[:,3]\n",
    "a, b, c #Løsningerne på ligningssystemet "
   ]
  },
  {
   "cell_type": "code",
   "execution_count": 9,
   "metadata": {},
   "outputs": [
    {
     "data": {
      "image/png": "[encoded data removed]",
      "text/plain": [
       "<Figure size 432x288 with 1 Axes>"
      ]
     },
     "metadata": {
      "needs_background": "light"
     },
     "output_type": "display_data"
    }
   ],
   "source": [
    "x = np.linspace(2, 12, 200)\n",
    "\n",
    "y = a + b * x + c * x**2   \n",
    "\n",
    "fig, ax = plt.subplots() # Tegning \n",
    "ax.plot(x, y)\n",
    "ax.plot(tid, temperatur)\n",
    "plt.show()"
   ]
  },
  {
   "cell_type": "markdown",
   "metadata": {},
   "source": [
    "Her kan vi se, at polynomiet passer rimelig godt på vores data i intervallet mellem vores tre punkter. Bevæger vi os ud herfra, afviger funktionen dog hurtigt fra vores data."
   ]
  },
  {
   "cell_type": "markdown",
   "metadata": {},
   "source": [
    "##### c)\n",
    "\n",
    "Hvis vi skal have et polynomium, der går igennem fem punkter, er vi nødt til at have fem variable. Det vil sige, at vi som minium skal bruge et fjerdegradspolynomium:\n",
    "\n",
    "p(x) = a + bx + cx^2 + dx^3 + ex^4"
   ]
  },
  {
   "cell_type": "code",
   "execution_count": 35,
   "metadata": {},
   "outputs": [
    {
     "data": {
      "text/plain": [
       "(array([-1.97530864]),\n",
       " array([32.85493827]),\n",
       " array([-9.09722222]),\n",
       " array([1.03395062]),\n",
       " array([-0.03858025]))"
      ]
     },
     "execution_count": 35,
     "metadata": {},
     "output_type": "execute_result"
    }
   ],
   "source": [
    "A = np.array([[1.0, 2.0, 4.0, 8.0, 16.0],\n",
    "              [1.0, 5.0, 25.0, 125.0, 625.0],\n",
    "              [1.0, 8.0, 64.0, 512.0, 4096.0],\n",
    "              [1.0, 10.0, 100.0, 1000.0, 10000.0],\n",
    "              [1.0, 11.0, 121.0, 1331.0, 14641.0]])\n",
    "\n",
    "B = np.array([35.0, 40.0, 50.0, 65.0, 70.0])[:, np.newaxis]\n",
    "\n",
    "a, b, c, d, e = np.linalg.solve(A,B)\n",
    "a, b, c, d, e"
   ]
  },
  {
   "cell_type": "code",
   "execution_count": 36,
   "metadata": {},
   "outputs": [
    {
     "data": {
      "image/png": "[encoded data removed]",
      "text/plain": [
       "<Figure size 432x288 with 1 Axes>"
      ]
     },
     "metadata": {
      "needs_background": "light"
     },
     "output_type": "display_data"
    }
   ],
   "source": [
    "x = np.linspace(2, 12, 200)\n",
    "\n",
    "y = a + b * x + c * x**2 + d * x**3 + e * x**4\n",
    "\n",
    "fig, ax = plt.subplots() # Tegning \n",
    "ax.plot(x, y)\n",
    "ax.plot(tid, temperatur)\n",
    "plt.show()"
   ]
  },
  {
   "cell_type": "markdown",
   "metadata": {},
   "source": [
    "##### d)\n",
    "\n",
    "a + b*x + c^2*x = y\n",
    "\n",
    "Når vi differentierer et andengrads polynomium får vi:\n",
    "\n",
    "b + 2c * x\n",
    "\n",
    "b1 + 2*c1 * 8 = b2 * 2*c2 * 8"
   ]
  },
  {
   "cell_type": "code",
   "execution_count": null,
   "metadata": {},
   "outputs": [],
   "source": [
    "A = np.array([[1.0, 5.0, 25.0, 0.0, 0.0, 0.0]\n",
    "              [1.0, 8.0, 64.0, 0.0, 0.0, 0.0]\n",
    "              [0.0, 0.0, 0.0, 1.0, 8.0, 64.0]\n",
    "              [0.0, 0.0, 0.0, 1.0, 10.0, 100.0]\n",
    "              [0.0, 1.0, 16.0, 0.0, 0.0, 0.0]\n",
    "              [0.0, 0.0, 0.0, 0.0, 1.0, 16.0]])\n",
    "\n",
    "B = "
   ]
  }
 ],
 "metadata": {
  "interpreter": {
   "hash": "31812fd69f6bc3ef162e702bb227450a9a85a2250f4cd7e9f79dcc0291d26e87"
  },
  "kernelspec": {
   "display_name": "Python 3.9.7 ('base')",
   "language": "python",
   "name": "python3"
  },
  "language_info": {
   "codemirror_mode": {
    "name": "ipython",
    "version": 3
   },
   "file_extension": ".py",
   "mimetype": "text/x-python",
   "name": "python",
   "nbconvert_exporter": "python",
   "pygments_lexer": "ipython3",
   "version": "3.9.7"
  },
  "orig_nbformat": 4
 },
 "nbformat": 4,
 "nbformat_minor": 2
}
