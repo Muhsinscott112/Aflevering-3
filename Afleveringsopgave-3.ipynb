{
 "cells": [
  {
   "cell_type": "markdown",
   "metadata": {},
   "source": [
    "# Afleveringsopgave 3"
   ]
  },
  {
   "cell_type": "code",
   "execution_count": 1,
   "metadata": {},
   "outputs": [],
   "source": [
    "import numpy as np"
   ]
  },
  {
   "cell_type": "code",
   "execution_count": 2,
   "metadata": {},
   "outputs": [],
   "source": [
    "import matplotlib.pyplot as plt"
   ]
  },
  {
   "cell_type": "markdown",
   "metadata": {},
   "source": [
    "##### a)"
   ]
  },
  {
   "cell_type": "code",
   "execution_count": 3,
   "metadata": {},
   "outputs": [
    {
     "data": {
      "image/png": "[encoded data removed]",
      "text/plain": [
       "<Figure size 432x288 with 1 Axes>"
      ]
     },
     "metadata": {
      "needs_background": "light"
     },
     "output_type": "display_data"
    },
    {
     "name": "stdout",
     "output_type": "stream",
     "text": [
      "\n",
      "\n"
     ]
    }
   ],
   "source": [
    "tid = [2.0, 5.0, 8.0, 10.0, 11.0]\n",
    "temperatur = [35.0, 40.0, 50.0, 65.0, 70.0]\n",
    "\n",
    "fig, ax = plt.subplots()\n",
    "ax.plot(tid, temperatur)\n",
    "plt.show()\n",
    "print(\"\\n\")"
   ]
  },
  {
   "cell_type": "markdown",
   "metadata": {},
   "source": [
    "##### b)"
   ]
  },
  {
   "cell_type": "markdown",
   "metadata": {},
   "source": [
    "Vi har en andengradsligning:\n",
    "\n",
    "p(x) = a + b * x + c * x**2 \n",
    "\n",
    "Med den kan opstille et ligningssytem, hvor a, b og c er de eneste ubekendte:\n",
    "\n",
    "50.0 = a + 8b + 64c \n",
    "\n",
    "65.0 = a + 10b + 100c\n",
    "\n",
    "70.0 = a + 11b + 121\n",
    "\n"
   ]
  },
  {
   "cell_type": "code",
   "execution_count": 4,
   "metadata": {},
   "outputs": [
    {
     "data": {
      "text/plain": [
       "array([[  1.,   8.,  64.,  50.],\n",
       "       [  1.,  10., 100.,  65.],\n",
       "       [  1.,  11., 121.,  70.]])"
      ]
     },
     "execution_count": 4,
     "metadata": {},
     "output_type": "execute_result"
    }
   ],
   "source": [
    "A = np.array([[1.0, 8.0, 64.0],\n",
    "              [1.0, 10.0, 100.0],\n",
    "              [1.0, 11.0, 121.0]])\n",
    "\n",
    "B = np.array([50.0, 65.0, 70.0])[:, np.newaxis]\n",
    "\n",
    "C = np.hstack([A,B])\n",
    "C\n"
   ]
  },
  {
   "cell_type": "code",
   "execution_count": 5,
   "metadata": {},
   "outputs": [
    {
     "data": {
      "text/plain": [
       "array([[ 1.        ,  8.        , 64.        , 50.        ],\n",
       "       [ 0.        ,  1.        , 18.        ,  7.5       ],\n",
       "       [ 0.        ,  0.        ,  1.        , -0.83333333]])"
      ]
     },
     "execution_count": 5,
     "metadata": {},
     "output_type": "execute_result"
    }
   ],
   "source": [
    "C[[1,2],:] -= C[0,:]        # Først trækker vi række 0 fra 1    #\n",
    "                            #    og 2 for at få 0 i søjle 0     #\n",
    "C[2,:] -= 3/2 * C[1,:]      # Nu trækker vi en skaleret søjle   #\n",
    "                            #    1 fra 2, for at få 0 i søjle 1 #\n",
    "C[1,:] *= 1/2               # Til sidst bruger vi skalarer til  #\n",
    "                            #    at etablere pivotelementerne   #\n",
    "C[2,:] *= 1/3\n",
    "C"
   ]
  },
  {
   "cell_type": "code",
   "execution_count": 6,
   "metadata": {},
   "outputs": [
    {
     "data": {
      "text/plain": [
       "array([[  1.        ,   0.        ,   0.        , -76.66666667],\n",
       "       [  0.        ,   1.        ,   0.        ,  22.5       ],\n",
       "       [  0.        ,   0.        ,   1.        ,  -0.83333333]])"
      ]
     },
     "execution_count": 6,
     "metadata": {},
     "output_type": "execute_result"
    }
   ],
   "source": [
    "C[1,:] -= 18 * C[2,:]               # Nu reducerer vi koefficientmatricen til en \n",
    "C[0,:] -= 64 * C[2,:] + 8 * C[1,:]  # indentitetsmatrix for at finde løsningen\n",
    "C"
   ]
  },
  {
   "cell_type": "code",
   "execution_count": 7,
   "metadata": {},
   "outputs": [
    {
     "data": {
      "text/plain": [
       "(-76.66666666666667, 22.5, -0.8333333333333333)"
      ]
     },
     "execution_count": 7,
     "metadata": {},
     "output_type": "execute_result"
    }
   ],
   "source": [
    "a, b, c = C[:,3]\n",
    "a, b, c #Løsningerne på ligningssystemet "
   ]
  },
  {
   "cell_type": "code",
   "execution_count": 8,
   "metadata": {},
   "outputs": [
    {
     "data": {
      "image/png": "[encoded data removed]",
      "text/plain": [
       "<Figure size 432x288 with 1 Axes>"
      ]
     },
     "metadata": {
      "needs_background": "light"
     },
     "output_type": "display_data"
    }
   ],
   "source": [
    "x = np.linspace(2, 12, 200)\n",
    "\n",
    "y = a + b * x + c * x**2   \n",
    "\n",
    "fig, ax = plt.subplots() # Tegning \n",
    "ax.plot(x, y)\n",
    "ax.plot(tid, temperatur)\n",
    "plt.show()"
   ]
  },
  {
   "cell_type": "markdown",
   "metadata": {},
   "source": [
    "Her kan vi se, at polynomiet passer rimelig godt på vores data i intervallet mellem vores tre punkter. Bevæger vi os ud herfra, afviger funktionen dog hurtigt fra vores data."
   ]
  },
  {
   "cell_type": "markdown",
   "metadata": {},
   "source": [
    "##### c)\n",
    "\n",
    "Hvis vi skal have et polynomium, der går igennem fem punkter, er vi nødt til at have fem variable. Det vil sige, at vi som minium skal bruge et fjerdegradspolynomium:\n",
    "\n",
    "p(x) = a + bx + cx^2 + dx^3 + ex^4"
   ]
  },
  {
   "cell_type": "code",
   "execution_count": 9,
   "metadata": {},
   "outputs": [
    {
     "data": {
      "text/plain": [
       "(array([-1.97530864]),\n",
       " array([32.85493827]),\n",
       " array([-9.09722222]),\n",
       " array([1.03395062]),\n",
       " array([-0.03858025]))"
      ]
     },
     "execution_count": 9,
     "metadata": {},
     "output_type": "execute_result"
    }
   ],
   "source": [
    "A = np.array([[1.0, 2.0, 4.0, 8.0, 16.0],\n",
    "              [1.0, 5.0, 25.0, 125.0, 625.0],\n",
    "              [1.0, 8.0, 64.0, 512.0, 4096.0],\n",
    "              [1.0, 10.0, 100.0, 1000.0, 10000.0],\n",
    "              [1.0, 11.0, 121.0, 1331.0, 14641.0]])\n",
    "\n",
    "B = np.array([35.0, 40.0, 50.0, 65.0, 70.0])[:, np.newaxis]\n",
    "\n",
    "a, b, c, d, e = np.linalg.solve(A,B)\n",
    "a, b, c, d, e"
   ]
  },
  {
   "cell_type": "code",
   "execution_count": 10,
   "metadata": {},
   "outputs": [
    {
     "data": {
      "image/png": "[encoded data removed]",
      "text/plain": [
       "<Figure size 432x288 with 1 Axes>"
      ]
     },
     "metadata": {
      "needs_background": "light"
     },
     "output_type": "display_data"
    }
   ],
   "source": [
    "x = np.linspace(2, 12, 200)\n",
    "\n",
    "y = a + b * x + c * x**2 + d * x**3 + e * x**4\n",
    "\n",
    "fig, ax = plt.subplots() # Tegning \n",
    "ax.plot(x, y)\n",
    "ax.plot(tid, temperatur)\n",
    "plt.show()"
   ]
  },
  {
   "cell_type": "markdown",
   "metadata": {},
   "source": [
    "<div style=\"page-break-after: always;\"></div>\n",
    "\n",
    "#### e)\n",
    "\n",
    "Vi i sætter vores ligningssystem ind i en matrix, og bruger rækkeoperationer til at ændre den til echelonform."
   ]
  },
  {
   "cell_type": "code",
   "execution_count": 11,
   "metadata": {},
   "outputs": [
    {
     "data": {
      "text/plain": [
       "array([[  1.,   5.,  25.,   0.,   0.,   0.,  40.],\n",
       "       [  1.,   8.,  64.,   0.,   0.,   0.,  50.],\n",
       "       [  0.,   0.,   0.,   1.,   8.,  64.,  50.],\n",
       "       [  0.,   0.,   0.,   1.,  10., 100.,  65.],\n",
       "       [  0.,   1.,  16.,   0.,   1.,  16.,   0.]])"
      ]
     },
     "execution_count": 11,
     "metadata": {},
     "output_type": "execute_result"
    }
   ],
   "source": [
    "A = np.array([[1.0, 5.0, 25.0, 0.0, 0.0, 0.0],\n",
    "              [1.0, 8.0, 64.0, 0.0, 0.0, 0.0],\n",
    "              [0.0, 0.0, 0.0, 1.0, 8.0, 64.0],\n",
    "              [0.0, 0.0, 0.0, 1.0, 10.0, 100.0],\n",
    "              [0.0, 1.0, 16.0, 0.0, 1.0, 16.0]])\n",
    "\n",
    "B = np.array([40.0, 50.0, 50.0, 65.0, 0.0])[:, np.newaxis]\n",
    "\n",
    "C = np.hstack([A,B])\n",
    "C"
   ]
  },
  {
   "cell_type": "code",
   "execution_count": 12,
   "metadata": {},
   "outputs": [
    {
     "name": "stdout",
     "output_type": "stream",
     "text": [
      "[[  1.       5.      25.       0.       0.       0.      40.    ]\n",
      " [  0.       1.       7.       0.      -2.     -32.      10.    ]\n",
      " [  0.       0.       1.       0.       0.3333   5.3333  -1.1111]\n",
      " [  0.       0.       0.       1.      10.     100.      65.    ]\n",
      " [ -0.      -0.      -0.      -0.       1.      18.       7.5   ]]\n"
     ]
    }
   ],
   "source": [
    "np.set_printoptions(precision=4)\n",
    "\n",
    "C[1,:] -= C[0,:]\n",
    "C[1,:] -= C[4,:] * 2\n",
    "C[[2,4],:] = C[[4,2],:]\n",
    "C[2,:] -= C[1,:]\n",
    "C[2,:] *= 1/9\n",
    "C[4,:] -= C[3,:]\n",
    "C[4,:] *= -1/2\n",
    "print(C)"
   ]
  },
  {
   "cell_type": "code",
   "execution_count": 13,
   "metadata": {},
   "outputs": [
    {
     "name": "stdout",
     "output_type": "stream",
     "text": [
      "[[   1.        0.        0.        0.        0.      -26.6667 -121.1111]\n",
      " [   0.        1.        0.        0.        0.        8.6667   50.2778]\n",
      " [   0.        0.        1.        0.        0.       -0.6667   -3.6111]\n",
      " [   0.        0.        0.        1.        0.      -80.      -10.    ]\n",
      " [  -0.       -0.       -0.       -0.        1.       18.        7.5   ]]\n"
     ]
    }
   ],
   "source": [
    "C[3,:] -= C[4,:] * 10 # Her finder vi løsning(en/erne) på ligningssystemet\n",
    "C[2,:] -= C[4,:] / 3\n",
    "C[1,:] += C[4,:] * 2\n",
    "C[1,:] -= C[2,:] * 7\n",
    "C[0,:] -= C[2,:] * 25\n",
    "C[0,:] -= C[1,:] * 5\n",
    "print(C)"
   ]
  },
  {
   "cell_type": "markdown",
   "metadata": {},
   "source": [
    "Nu har vi en matrix i echelonform, hvor der er strengt færre pivotelementer end søjler. Dette betyder, at matricen er underbestemt, og vores variabel f er fri. Dette betyder, at der er uendelig mange løsninger."
   ]
  },
  {
   "cell_type": "markdown",
   "metadata": {},
   "source": [
    "##### f)\n",
    "\n",
    "Note: Kan godt se fejlene, men er stadig lidt usikker på den bedste metode, så vi prøver at bruge den samme metode ordentligt.\n",
    "\n",
    "Vi kan nu definere b og c i den afledte af p1(x) ud fra vores frie variabel f. I vores data har vi fra x = 2 til x = 8 noget, der nærmer sig lineær vækst, som vi kan udregne hældningen på. Hvis vi sætter f således, at hældingen i b + 2cx bliver lig med y'(5), har vi en god approksimation af f."
   ]
  },
  {
   "cell_type": "code",
   "execution_count": 14,
   "metadata": {},
   "outputs": [
    {
     "name": "stdout",
     "output_type": "stream",
     "text": [
      "4.166666666666667\n"
     ]
    }
   ],
   "source": [
    "slope5 = (60.0 - 35.0) / (8.0 - 2.0)\n",
    "\n",
    "print(slope5)"
   ]
  },
  {
   "cell_type": "markdown",
   "metadata": {},
   "source": [
    "Dette er hældningen i x = 5, hvis vi antager lineær vækst fra x = 2 til x = 8. Grundet mangel på data kan vi ikke med rimelig sikkerhed konkludere, at der er lineær vækst, men det er den bedste approksimering. Vi har nu en ligning b + 2cx = slope5 som vi kan sætte ind i vores ligningssystem, for at få en entydig løsning. Da vi har punktet x = 5, bliver ligningen b + 10c = slope5."
   ]
  },
  {
   "cell_type": "code",
   "execution_count": 15,
   "metadata": {},
   "outputs": [
    {
     "data": {
      "text/plain": [
       "array([[ 1.2222e+01],\n",
       "       [ 6.9444e+00],\n",
       "       [-2.7778e-01],\n",
       "       [ 3.9000e+02],\n",
       "       [-8.2500e+01],\n",
       "       [ 5.0000e+00]])"
      ]
     },
     "execution_count": 15,
     "metadata": {},
     "output_type": "execute_result"
    }
   ],
   "source": [
    "A = np.array([[1.0, 5.0, 25.0, 0.0, 0.0, 0.0],\n",
    "              [1.0, 8.0, 64.0, 0.0, 0.0, 0.0],\n",
    "              [0.0, 0.0, 0.0, 1.0, 8.0, 64.0],\n",
    "              [0.0, 0.0, 0.0, 1.0, 10.0, 100.0],\n",
    "              [0.0, 1.0, 16.0, 0.0, 1.0, 16.0],\n",
    "              [0.0, 1.0, 10.0, 0.0, 0.0, 0.0]])\n",
    "\n",
    "B = np.array([40.0, 50.0, 50.0, 65.0, 0.0, slope5])[:, np.newaxis]\n",
    "\n",
    "C = np.hstack([A,B])\n",
    "S = np.linalg.solve(A, B)\n",
    "S"
   ]
  },
  {
   "cell_type": "markdown",
   "metadata": {},
   "source": [
    "Nu er der ingen ubekendte, og vi kan plotte funktionerne."
   ]
  },
  {
   "cell_type": "code",
   "execution_count": 16,
   "metadata": {},
   "outputs": [
    {
     "data": {
      "image/png": "[encoded data removed]",
      "text/plain": [
       "<Figure size 432x288 with 1 Axes>"
      ]
     },
     "metadata": {
      "needs_background": "light"
     },
     "output_type": "display_data"
    }
   ],
   "source": [
    "a, b, c, d, e, f = S\n",
    "\n",
    "x1 = np.linspace(5, 8, 150)\n",
    "x2 = np.linspace(8, 10, 100)\n",
    "\n",
    "p1 = a + b * x1 + c * x1**2\n",
    "p2 = d + e * x2 + f * x2**2\n",
    "\n",
    "fig, ax = plt.subplots() # Tegning \n",
    "ax.plot(x1, p1, 'r')\n",
    "ax.plot(x2, p2, 'r')\n",
    "ax.plot(tid, temperatur, 'b')\n",
    "\n",
    "plt.xlim([2, 12])\n",
    "plt.show()"
   ]
  },
  {
   "cell_type": "markdown",
   "metadata": {},
   "source": [
    "##### g)\n",
    "\n",
    "Hvis vi først kigger på metoden fra b), er det ydeligt, at funktionen afviger kraftigt fra vores data. Metoden fra c) afviger mindre, og krydser grafen i 5. Hvis vi sammenligner c) med f) ser vi dog, at denne graf ligger tættest på grafen for vores data, når temperaturen er 55 grader. Vi ville derfor helst bruge denne til at estimere i dette punkt. Hvis vi kigger over hele intervallet [2;12], ville vi dog helst bruge metoden fra c)."
   ]
  }
 ],
 "metadata": {
  "interpreter": {
   "hash": "31812fd69f6bc3ef162e702bb227450a9a85a2250f4cd7e9f79dcc0291d26e87"
  },
  "kernelspec": {
   "display_name": "Python 3 (ipykernel)",
   "language": "python",
   "name": "python3"
  },
  "language_info": {
   "codemirror_mode": {
    "name": "ipython",
    "version": 3
   },
   "file_extension": ".py",
   "mimetype": "text/x-python",
   "name": "python",
   "nbconvert_exporter": "python",
   "pygments_lexer": "ipython3",
   "version": "3.9.7"
  }
 },
 "nbformat": 4,
 "nbformat_minor": 2
}
